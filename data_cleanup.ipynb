{
 "cells": [
  {
   "cell_type": "code",
   "execution_count": 1,
   "metadata": {},
   "outputs": [],
   "source": [
    "import os\n",
    "import pandas as pd\n"
   ]
  },
  {
   "cell_type": "code",
   "execution_count": 2,
   "metadata": {},
   "outputs": [],
   "source": [
    "input_dir = './data/fromAPI/hourly'\n",
    "\n",
    "data = []\n",
    "labels = []\n",
    "files = os.listdir(input_dir)\n",
    "csvs = []\n",
    "\n",
    "for file in files:\n",
    "    if \"txt\" in file:\n",
    "        continue\n",
    "    else:\n",
    "        csvs.append(file)\n",
    "\n",
    "csvs.sort()\n",
    "\n"
   ]
  },
  {
   "cell_type": "code",
   "execution_count": 3,
   "metadata": {},
   "outputs": [
    {
     "data": {
      "text/plain": [
       "(1417710, 17)"
      ]
     },
     "execution_count": 3,
     "metadata": {},
     "output_type": "execute_result"
    }
   ],
   "source": [
    "df = pd.DataFrame()\n",
    "\n",
    "for file in csvs:\n",
    "    df2 = pd.read_csv(f\"{input_dir}/{file}\")\n",
    "    df = pd.concat([df,df2])\n",
    "\n",
    "df.drop('Unnamed: 0', axis=1, inplace=True)\n",
    "df.reset_index(inplace=True)\n",
    "df.drop('index', axis=1, inplace=True)\n",
    "df.shape"
   ]
  },
  {
   "cell_type": "code",
   "execution_count": 4,
   "metadata": {},
   "outputs": [],
   "source": [
    "def delay_cat(delay):\n",
    "    if delay >= 6:\n",
    "        return 'delay'\n",
    "    else:\n",
    "        return 'on_time'\n",
    "\n",
    "df['arrival_delay_check'] = df['arrival_delay_m'].apply(delay_cat)\n",
    "df['departure_delay_check'] = df['depature_delay_m'].apply(delay_cat)"
   ]
  },
  {
   "cell_type": "code",
   "execution_count": 5,
   "metadata": {},
   "outputs": [
    {
     "data": {
      "text/html": [
       "<div>\n",
       "<style scoped>\n",
       "    .dataframe tbody tr th:only-of-type {\n",
       "        vertical-align: middle;\n",
       "    }\n",
       "\n",
       "    .dataframe tbody tr th {\n",
       "        vertical-align: top;\n",
       "    }\n",
       "\n",
       "    .dataframe thead th {\n",
       "        text-align: right;\n",
       "    }\n",
       "</style>\n",
       "<table border=\"1\" class=\"dataframe\">\n",
       "  <thead>\n",
       "    <tr style=\"text-align: right;\">\n",
       "      <th></th>\n",
       "      <th>ID</th>\n",
       "      <th>train</th>\n",
       "      <th>path</th>\n",
       "      <th>eva_nr</th>\n",
       "      <th>category</th>\n",
       "      <th>name</th>\n",
       "      <th>state</th>\n",
       "      <th>city</th>\n",
       "      <th>zip</th>\n",
       "      <th>long</th>\n",
       "      <th>lat</th>\n",
       "      <th>arrival_plan</th>\n",
       "      <th>departure_plan</th>\n",
       "      <th>arrival_change</th>\n",
       "      <th>departure_change</th>\n",
       "      <th>arrival_delay_m</th>\n",
       "      <th>depature_delay_m</th>\n",
       "      <th>arrival_delay_check</th>\n",
       "      <th>departure_delay_check</th>\n",
       "    </tr>\n",
       "  </thead>\n",
       "  <tbody>\n",
       "    <tr>\n",
       "      <th>0</th>\n",
       "      <td>-5400859585976401385-2406231231-15</td>\n",
       "      <td>NaN</td>\n",
       "      <td>Heinsberg(Rheinl)|Heinsberg Kreishaus|Heinsber...</td>\n",
       "      <td>8000001</td>\n",
       "      <td>2</td>\n",
       "      <td>Aachen Hbf</td>\n",
       "      <td>Nordrhein-Westfalen</td>\n",
       "      <td>Aachen</td>\n",
       "      <td>52064</td>\n",
       "      <td>6.091499</td>\n",
       "      <td>50.7678</td>\n",
       "      <td>2024-06-23 13:31:00</td>\n",
       "      <td>NaN</td>\n",
       "      <td>2024-06-23 13:30:00</td>\n",
       "      <td>NaN</td>\n",
       "      <td>-1</td>\n",
       "      <td>0</td>\n",
       "      <td>on_time</td>\n",
       "      <td>on_time</td>\n",
       "    </tr>\n",
       "    <tr>\n",
       "      <th>1</th>\n",
       "      <td>4083473720689476753-2406231250-4</td>\n",
       "      <td>20</td>\n",
       "      <td>Stolberg(Rheinl)Hbf|Eilendorf|Aachen-Rothe Erde</td>\n",
       "      <td>8000001</td>\n",
       "      <td>2</td>\n",
       "      <td>Aachen Hbf</td>\n",
       "      <td>Nordrhein-Westfalen</td>\n",
       "      <td>Aachen</td>\n",
       "      <td>52064</td>\n",
       "      <td>6.091499</td>\n",
       "      <td>50.7678</td>\n",
       "      <td>2024-06-23 13:01:00</td>\n",
       "      <td>2024-06-23 13:02:00</td>\n",
       "      <td>2024-06-23 13:03:00</td>\n",
       "      <td>2024-06-23 13:04:00</td>\n",
       "      <td>2</td>\n",
       "      <td>2</td>\n",
       "      <td>on_time</td>\n",
       "      <td>on_time</td>\n",
       "    </tr>\n",
       "    <tr>\n",
       "      <th>2</th>\n",
       "      <td>-8892239479013746475-2406231212-14</td>\n",
       "      <td>20</td>\n",
       "      <td>Stolberg(Rheinl)Hbf Gl.44|Eschweiler-St.Jöris|...</td>\n",
       "      <td>8000001</td>\n",
       "      <td>2</td>\n",
       "      <td>Aachen Hbf</td>\n",
       "      <td>Nordrhein-Westfalen</td>\n",
       "      <td>Aachen</td>\n",
       "      <td>52064</td>\n",
       "      <td>6.091499</td>\n",
       "      <td>50.7678</td>\n",
       "      <td>2024-06-23 13:00:00</td>\n",
       "      <td>2024-06-23 13:01:00</td>\n",
       "      <td>2024-06-23 13:05:00</td>\n",
       "      <td>2024-06-23 13:06:00</td>\n",
       "      <td>5</td>\n",
       "      <td>5</td>\n",
       "      <td>on_time</td>\n",
       "      <td>on_time</td>\n",
       "    </tr>\n",
       "    <tr>\n",
       "      <th>3</th>\n",
       "      <td>3772983581833112391-2406231337-1</td>\n",
       "      <td>33</td>\n",
       "      <td>NaN</td>\n",
       "      <td>8000001</td>\n",
       "      <td>2</td>\n",
       "      <td>Aachen Hbf</td>\n",
       "      <td>Nordrhein-Westfalen</td>\n",
       "      <td>Aachen</td>\n",
       "      <td>52064</td>\n",
       "      <td>6.091499</td>\n",
       "      <td>50.7678</td>\n",
       "      <td>NaN</td>\n",
       "      <td>2024-06-23 13:37:00</td>\n",
       "      <td>NaN</td>\n",
       "      <td>NaN</td>\n",
       "      <td>0</td>\n",
       "      <td>0</td>\n",
       "      <td>on_time</td>\n",
       "      <td>on_time</td>\n",
       "    </tr>\n",
       "    <tr>\n",
       "      <th>4</th>\n",
       "      <td>-7760689325071259199-2406231337-1</td>\n",
       "      <td>29</td>\n",
       "      <td>NaN</td>\n",
       "      <td>8000001</td>\n",
       "      <td>2</td>\n",
       "      <td>Aachen Hbf</td>\n",
       "      <td>Nordrhein-Westfalen</td>\n",
       "      <td>Aachen</td>\n",
       "      <td>52064</td>\n",
       "      <td>6.091499</td>\n",
       "      <td>50.7678</td>\n",
       "      <td>NaN</td>\n",
       "      <td>2024-06-23 13:37:00</td>\n",
       "      <td>NaN</td>\n",
       "      <td>NaN</td>\n",
       "      <td>0</td>\n",
       "      <td>0</td>\n",
       "      <td>on_time</td>\n",
       "      <td>on_time</td>\n",
       "    </tr>\n",
       "  </tbody>\n",
       "</table>\n",
       "</div>"
      ],
      "text/plain": [
       "                                   ID train  \\\n",
       "0  -5400859585976401385-2406231231-15   NaN   \n",
       "1    4083473720689476753-2406231250-4    20   \n",
       "2  -8892239479013746475-2406231212-14    20   \n",
       "3    3772983581833112391-2406231337-1    33   \n",
       "4   -7760689325071259199-2406231337-1    29   \n",
       "\n",
       "                                                path   eva_nr  category  \\\n",
       "0  Heinsberg(Rheinl)|Heinsberg Kreishaus|Heinsber...  8000001         2   \n",
       "1    Stolberg(Rheinl)Hbf|Eilendorf|Aachen-Rothe Erde  8000001         2   \n",
       "2  Stolberg(Rheinl)Hbf Gl.44|Eschweiler-St.Jöris|...  8000001         2   \n",
       "3                                                NaN  8000001         2   \n",
       "4                                                NaN  8000001         2   \n",
       "\n",
       "         name                state    city    zip      long      lat  \\\n",
       "0  Aachen Hbf  Nordrhein-Westfalen  Aachen  52064  6.091499  50.7678   \n",
       "1  Aachen Hbf  Nordrhein-Westfalen  Aachen  52064  6.091499  50.7678   \n",
       "2  Aachen Hbf  Nordrhein-Westfalen  Aachen  52064  6.091499  50.7678   \n",
       "3  Aachen Hbf  Nordrhein-Westfalen  Aachen  52064  6.091499  50.7678   \n",
       "4  Aachen Hbf  Nordrhein-Westfalen  Aachen  52064  6.091499  50.7678   \n",
       "\n",
       "          arrival_plan       departure_plan       arrival_change  \\\n",
       "0  2024-06-23 13:31:00                  NaN  2024-06-23 13:30:00   \n",
       "1  2024-06-23 13:01:00  2024-06-23 13:02:00  2024-06-23 13:03:00   \n",
       "2  2024-06-23 13:00:00  2024-06-23 13:01:00  2024-06-23 13:05:00   \n",
       "3                  NaN  2024-06-23 13:37:00                  NaN   \n",
       "4                  NaN  2024-06-23 13:37:00                  NaN   \n",
       "\n",
       "      departure_change  arrival_delay_m  depature_delay_m arrival_delay_check  \\\n",
       "0                  NaN               -1                 0             on_time   \n",
       "1  2024-06-23 13:04:00                2                 2             on_time   \n",
       "2  2024-06-23 13:06:00                5                 5             on_time   \n",
       "3                  NaN                0                 0             on_time   \n",
       "4                  NaN                0                 0             on_time   \n",
       "\n",
       "  departure_delay_check  \n",
       "0               on_time  \n",
       "1               on_time  \n",
       "2               on_time  \n",
       "3               on_time  \n",
       "4               on_time  "
      ]
     },
     "execution_count": 5,
     "metadata": {},
     "output_type": "execute_result"
    }
   ],
   "source": [
    "df.head()"
   ]
  },
  {
   "cell_type": "code",
   "execution_count": 6,
   "metadata": {},
   "outputs": [
    {
     "data": {
      "text/html": [
       "<div>\n",
       "<style scoped>\n",
       "    .dataframe tbody tr th:only-of-type {\n",
       "        vertical-align: middle;\n",
       "    }\n",
       "\n",
       "    .dataframe tbody tr th {\n",
       "        vertical-align: top;\n",
       "    }\n",
       "\n",
       "    .dataframe thead th {\n",
       "        text-align: right;\n",
       "    }\n",
       "</style>\n",
       "<table border=\"1\" class=\"dataframe\">\n",
       "  <thead>\n",
       "    <tr style=\"text-align: right;\">\n",
       "      <th></th>\n",
       "      <th>ID</th>\n",
       "      <th>train</th>\n",
       "      <th>path</th>\n",
       "      <th>eva_nr</th>\n",
       "      <th>category</th>\n",
       "      <th>name</th>\n",
       "      <th>state</th>\n",
       "      <th>city</th>\n",
       "      <th>zip</th>\n",
       "      <th>long</th>\n",
       "      <th>lat</th>\n",
       "      <th>arrival_plan</th>\n",
       "      <th>departure_plan</th>\n",
       "      <th>arrival_change</th>\n",
       "      <th>departure_change</th>\n",
       "      <th>arrival_delay_m</th>\n",
       "      <th>depature_delay_m</th>\n",
       "      <th>arrival_delay_check</th>\n",
       "      <th>departure_delay_check</th>\n",
       "    </tr>\n",
       "  </thead>\n",
       "  <tbody>\n",
       "    <tr>\n",
       "      <th>1417705</th>\n",
       "      <td>-2524967729471299033-2406271333-36</td>\n",
       "      <td>NaN</td>\n",
       "      <td>Bergisch Gladbach|Duckterath|Köln-Dellbrück|Kö...</td>\n",
       "      <td>8001580</td>\n",
       "      <td>4</td>\n",
       "      <td>Düsseldorf Flughafen Terminal</td>\n",
       "      <td>Nordrhein-Westfalen</td>\n",
       "      <td>Düsseldorf</td>\n",
       "      <td>40474</td>\n",
       "      <td>6.766979</td>\n",
       "      <td>51.278517</td>\n",
       "      <td>2024-06-27 15:15:00</td>\n",
       "      <td>NaN</td>\n",
       "      <td>2024-06-27 15:16:00</td>\n",
       "      <td>NaN</td>\n",
       "      <td>1</td>\n",
       "      <td>0</td>\n",
       "      <td>on_time</td>\n",
       "      <td>on_time</td>\n",
       "    </tr>\n",
       "    <tr>\n",
       "      <th>1417706</th>\n",
       "      <td>7773222948651306726-2406271544-1</td>\n",
       "      <td>11</td>\n",
       "      <td>NaN</td>\n",
       "      <td>8001580</td>\n",
       "      <td>4</td>\n",
       "      <td>Düsseldorf Flughafen Terminal</td>\n",
       "      <td>Nordrhein-Westfalen</td>\n",
       "      <td>Düsseldorf</td>\n",
       "      <td>40474</td>\n",
       "      <td>6.766979</td>\n",
       "      <td>51.278517</td>\n",
       "      <td>NaN</td>\n",
       "      <td>2024-06-27 15:44:00</td>\n",
       "      <td>NaN</td>\n",
       "      <td>NaN</td>\n",
       "      <td>0</td>\n",
       "      <td>0</td>\n",
       "      <td>on_time</td>\n",
       "      <td>on_time</td>\n",
       "    </tr>\n",
       "    <tr>\n",
       "      <th>1417707</th>\n",
       "      <td>5484088617416038144-2406271353-36</td>\n",
       "      <td>NaN</td>\n",
       "      <td>Bergisch Gladbach|Duckterath|Köln-Dellbrück|Kö...</td>\n",
       "      <td>8001580</td>\n",
       "      <td>4</td>\n",
       "      <td>Düsseldorf Flughafen Terminal</td>\n",
       "      <td>Nordrhein-Westfalen</td>\n",
       "      <td>Düsseldorf</td>\n",
       "      <td>40474</td>\n",
       "      <td>6.766979</td>\n",
       "      <td>51.278517</td>\n",
       "      <td>2024-06-27 15:35:00</td>\n",
       "      <td>NaN</td>\n",
       "      <td>2024-06-27 15:36:00</td>\n",
       "      <td>NaN</td>\n",
       "      <td>1</td>\n",
       "      <td>0</td>\n",
       "      <td>on_time</td>\n",
       "      <td>on_time</td>\n",
       "    </tr>\n",
       "    <tr>\n",
       "      <th>1417708</th>\n",
       "      <td>-852858026441192630-2406271524-1</td>\n",
       "      <td>11</td>\n",
       "      <td>NaN</td>\n",
       "      <td>8001580</td>\n",
       "      <td>4</td>\n",
       "      <td>Düsseldorf Flughafen Terminal</td>\n",
       "      <td>Nordrhein-Westfalen</td>\n",
       "      <td>Düsseldorf</td>\n",
       "      <td>40474</td>\n",
       "      <td>6.766979</td>\n",
       "      <td>51.278517</td>\n",
       "      <td>NaN</td>\n",
       "      <td>2024-06-27 15:24:00</td>\n",
       "      <td>NaN</td>\n",
       "      <td>2024-06-27 15:24:00</td>\n",
       "      <td>0</td>\n",
       "      <td>0</td>\n",
       "      <td>on_time</td>\n",
       "      <td>on_time</td>\n",
       "    </tr>\n",
       "    <tr>\n",
       "      <th>1417709</th>\n",
       "      <td>-8839203743118200520-2406271504-1</td>\n",
       "      <td>11</td>\n",
       "      <td>NaN</td>\n",
       "      <td>8001580</td>\n",
       "      <td>4</td>\n",
       "      <td>Düsseldorf Flughafen Terminal</td>\n",
       "      <td>Nordrhein-Westfalen</td>\n",
       "      <td>Düsseldorf</td>\n",
       "      <td>40474</td>\n",
       "      <td>6.766979</td>\n",
       "      <td>51.278517</td>\n",
       "      <td>NaN</td>\n",
       "      <td>2024-06-27 15:04:00</td>\n",
       "      <td>NaN</td>\n",
       "      <td>2024-06-27 15:12:00</td>\n",
       "      <td>0</td>\n",
       "      <td>8</td>\n",
       "      <td>on_time</td>\n",
       "      <td>delay</td>\n",
       "    </tr>\n",
       "  </tbody>\n",
       "</table>\n",
       "</div>"
      ],
      "text/plain": [
       "                                         ID train  \\\n",
       "1417705  -2524967729471299033-2406271333-36   NaN   \n",
       "1417706    7773222948651306726-2406271544-1    11   \n",
       "1417707   5484088617416038144-2406271353-36   NaN   \n",
       "1417708    -852858026441192630-2406271524-1    11   \n",
       "1417709   -8839203743118200520-2406271504-1    11   \n",
       "\n",
       "                                                      path   eva_nr  category  \\\n",
       "1417705  Bergisch Gladbach|Duckterath|Köln-Dellbrück|Kö...  8001580         4   \n",
       "1417706                                                NaN  8001580         4   \n",
       "1417707  Bergisch Gladbach|Duckterath|Köln-Dellbrück|Kö...  8001580         4   \n",
       "1417708                                                NaN  8001580         4   \n",
       "1417709                                                NaN  8001580         4   \n",
       "\n",
       "                                  name                state        city  \\\n",
       "1417705  Düsseldorf Flughafen Terminal  Nordrhein-Westfalen  Düsseldorf   \n",
       "1417706  Düsseldorf Flughafen Terminal  Nordrhein-Westfalen  Düsseldorf   \n",
       "1417707  Düsseldorf Flughafen Terminal  Nordrhein-Westfalen  Düsseldorf   \n",
       "1417708  Düsseldorf Flughafen Terminal  Nordrhein-Westfalen  Düsseldorf   \n",
       "1417709  Düsseldorf Flughafen Terminal  Nordrhein-Westfalen  Düsseldorf   \n",
       "\n",
       "           zip      long        lat         arrival_plan       departure_plan  \\\n",
       "1417705  40474  6.766979  51.278517  2024-06-27 15:15:00                  NaN   \n",
       "1417706  40474  6.766979  51.278517                  NaN  2024-06-27 15:44:00   \n",
       "1417707  40474  6.766979  51.278517  2024-06-27 15:35:00                  NaN   \n",
       "1417708  40474  6.766979  51.278517                  NaN  2024-06-27 15:24:00   \n",
       "1417709  40474  6.766979  51.278517                  NaN  2024-06-27 15:04:00   \n",
       "\n",
       "              arrival_change     departure_change  arrival_delay_m  \\\n",
       "1417705  2024-06-27 15:16:00                  NaN                1   \n",
       "1417706                  NaN                  NaN                0   \n",
       "1417707  2024-06-27 15:36:00                  NaN                1   \n",
       "1417708                  NaN  2024-06-27 15:24:00                0   \n",
       "1417709                  NaN  2024-06-27 15:12:00                0   \n",
       "\n",
       "         depature_delay_m arrival_delay_check departure_delay_check  \n",
       "1417705                 0             on_time               on_time  \n",
       "1417706                 0             on_time               on_time  \n",
       "1417707                 0             on_time               on_time  \n",
       "1417708                 0             on_time               on_time  \n",
       "1417709                 8             on_time                 delay  "
      ]
     },
     "execution_count": 6,
     "metadata": {},
     "output_type": "execute_result"
    }
   ],
   "source": [
    "df.tail()"
   ]
  },
  {
   "cell_type": "code",
   "execution_count": 7,
   "metadata": {},
   "outputs": [
    {
     "data": {
      "text/plain": [
       "(46328, 19)"
      ]
     },
     "execution_count": 7,
     "metadata": {},
     "output_type": "execute_result"
    }
   ],
   "source": [
    "df[df[\"arrival_delay_m\"] < 0].shape"
   ]
  },
  {
   "cell_type": "code",
   "execution_count": 8,
   "metadata": {},
   "outputs": [
    {
     "data": {
      "text/plain": [
       "(1417, 19)"
      ]
     },
     "execution_count": 8,
     "metadata": {},
     "output_type": "execute_result"
    }
   ],
   "source": [
    "df[df[\"depature_delay_m\"] < 0].shape"
   ]
  },
  {
   "cell_type": "code",
   "execution_count": 9,
   "metadata": {},
   "outputs": [],
   "source": [
    "df[df[\"arrival_delay_m\"] < 0] = 0\n",
    "df[df[\"depature_delay_m\"] < 0] = 0"
   ]
  },
  {
   "cell_type": "code",
   "execution_count": 10,
   "metadata": {},
   "outputs": [],
   "source": [
    "df.drop(labels=df[df[\"arrival_delay_check\"] == 0].index, axis=0, inplace=True)"
   ]
  },
  {
   "cell_type": "code",
   "execution_count": 11,
   "metadata": {},
   "outputs": [
    {
     "data": {
      "text/plain": [
       "ID                            0\n",
       "train                    160413\n",
       "path                     128986\n",
       "eva_nr                        0\n",
       "category                      0\n",
       "name                          0\n",
       "state                         0\n",
       "city                          0\n",
       "zip                           0\n",
       "long                          0\n",
       "lat                           0\n",
       "arrival_plan             128986\n",
       "departure_plan           121841\n",
       "arrival_change           302724\n",
       "departure_change         325289\n",
       "arrival_delay_m               0\n",
       "depature_delay_m              0\n",
       "arrival_delay_check           0\n",
       "departure_delay_check         0\n",
       "dtype: int64"
      ]
     },
     "execution_count": 11,
     "metadata": {},
     "output_type": "execute_result"
    }
   ],
   "source": [
    "df.isnull().sum()"
   ]
  },
  {
   "cell_type": "code",
   "execution_count": 12,
   "metadata": {},
   "outputs": [
    {
     "data": {
      "text/plain": [
       "4029"
      ]
     },
     "execution_count": 12,
     "metadata": {},
     "output_type": "execute_result"
    }
   ],
   "source": [
    "df.duplicated().sum() "
   ]
  },
  {
   "cell_type": "code",
   "execution_count": 44,
   "metadata": {},
   "outputs": [
    {
     "data": {
      "text/plain": [
       "array([nan, '26', 'RB15', 'RE98', '1'], dtype=object)"
      ]
     },
     "execution_count": 44,
     "metadata": {},
     "output_type": "execute_result"
    }
   ],
   "source": [
    "df[df[\"arrival_delay_m\"] > df[\"arrival_delay_m\"].quantile(0.9999)].train.unique() ## rauswerfen???"
   ]
  },
  {
   "cell_type": "code",
   "execution_count": 61,
   "metadata": {},
   "outputs": [
    {
     "name": "stdout",
     "output_type": "stream",
     "text": [
      "<class 'pandas.core.frame.DataFrame'>\n",
      "Index: 1370589 entries, 1 to 1417709\n",
      "Data columns (total 19 columns):\n",
      " #   Column                 Non-Null Count    Dtype  \n",
      "---  ------                 --------------    -----  \n",
      " 0   ID                     1370589 non-null  object \n",
      " 1   train                  1210176 non-null  object \n",
      " 2   path                   1241603 non-null  object \n",
      " 3   eva_nr                 1370589 non-null  int64  \n",
      " 4   category               1370589 non-null  int64  \n",
      " 5   name                   1370589 non-null  object \n",
      " 6   state                  1370589 non-null  object \n",
      " 7   city                   1370589 non-null  object \n",
      " 8   zip                    1370589 non-null  int64  \n",
      " 9   long                   1370589 non-null  float64\n",
      " 10  lat                    1370589 non-null  float64\n",
      " 11  arrival_plan           1241603 non-null  object \n",
      " 12  departure_plan         1248748 non-null  object \n",
      " 13  arrival_change         1067865 non-null  object \n",
      " 14  departure_change       1045300 non-null  object \n",
      " 15  arrival_delay_m        1370589 non-null  int64  \n",
      " 16  depature_delay_m       1370589 non-null  int64  \n",
      " 17  arrival_delay_check    1370589 non-null  object \n",
      " 18  departure_delay_check  1370589 non-null  object \n",
      "dtypes: float64(2), int64(5), object(12)\n",
      "memory usage: 209.1+ MB\n"
     ]
    }
   ],
   "source": [
    "df.info()"
   ]
  },
  {
   "cell_type": "code",
   "execution_count": 60,
   "metadata": {},
   "outputs": [
    {
     "data": {
      "text/plain": [
       "ID                            0\n",
       "train                    160413\n",
       "path                     128986\n",
       "eva_nr                        0\n",
       "category                      0\n",
       "name                          0\n",
       "state                         0\n",
       "city                          0\n",
       "zip                           0\n",
       "long                          0\n",
       "lat                           0\n",
       "arrival_plan             128986\n",
       "departure_plan           121841\n",
       "arrival_change           302724\n",
       "departure_change         325289\n",
       "arrival_delay_m               0\n",
       "depature_delay_m              0\n",
       "arrival_delay_check           0\n",
       "departure_delay_check         0\n",
       "dtype: int64"
      ]
     },
     "execution_count": 60,
     "metadata": {},
     "output_type": "execute_result"
    }
   ],
   "source": [
    "df.isna().sum()"
   ]
  },
  {
   "cell_type": "code",
   "execution_count": 55,
   "metadata": {},
   "outputs": [
    {
     "data": {
      "text/plain": [
       "160413"
      ]
     },
     "execution_count": 55,
     "metadata": {},
     "output_type": "execute_result"
    }
   ],
   "source": [
    "df[\"train\"].isna().sum() ## rauswerfen?"
   ]
  },
  {
   "cell_type": "code",
   "execution_count": 13,
   "metadata": {},
   "outputs": [],
   "source": [
    "# df.to_csv(\"data/fromAPI/cleaned_hourly_all.csv\", index=False)"
   ]
  }
 ],
 "metadata": {
  "kernelspec": {
   "display_name": ".venv",
   "language": "python",
   "name": "python3"
  },
  "language_info": {
   "codemirror_mode": {
    "name": "ipython",
    "version": 3
   },
   "file_extension": ".py",
   "mimetype": "text/x-python",
   "name": "python",
   "nbconvert_exporter": "python",
   "pygments_lexer": "ipython3",
   "version": "3.11.3"
  }
 },
 "nbformat": 4,
 "nbformat_minor": 2
}
