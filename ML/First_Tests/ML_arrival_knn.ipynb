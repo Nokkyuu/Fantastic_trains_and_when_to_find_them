{
 "cells": [
  {
   "cell_type": "code",
   "execution_count": 1,
   "metadata": {},
   "outputs": [],
   "source": [
    "import pandas as pd\n",
    "import gc"
   ]
  },
  {
   "cell_type": "code",
   "execution_count": 2,
   "metadata": {},
   "outputs": [],
   "source": [
    "df = pd.read_csv(\"../data/fromAPI/cleaned_hourly_all.csv\")"
   ]
  },
  {
   "cell_type": "code",
   "execution_count": 3,
   "metadata": {},
   "outputs": [],
   "source": [
    "date_format = \"%Y-%m-%d %H:%M:%S\"\n",
    "df[\"arrival_plan\"] = pd.to_datetime(df[\"arrival_plan\"], format=date_format)\n",
    "df[\"departure_plan\"] = pd.to_datetime(df[\"departure_plan\"], format=date_format)\n",
    "df[\"arrival_change\"] = pd.to_datetime(df[\"arrival_change\"], format=date_format)\n",
    "df[\"departure_change\"] = pd.to_datetime(df[\"departure_change\"], format=date_format)\n",
    "df[\"arrival_plan_hour\"] = df[\"arrival_plan\"].dt.hour\n"
   ]
  },
  {
   "cell_type": "code",
   "execution_count": 4,
   "metadata": {},
   "outputs": [],
   "source": [
    "df.dropna(subset=[\"arrival_plan\"], inplace=True)"
   ]
  },
  {
   "cell_type": "code",
   "execution_count": 5,
   "metadata": {},
   "outputs": [],
   "source": [
    "ml_arrival = df.drop([\n",
    "    'ID', 'train', 'path', 'eva_nr', 'category', \n",
    "    #'name', \n",
    "    'state', \n",
    "    'city',\n",
    "    'zip', \n",
    "    #'long', 'lat', \n",
    "    'arrival_plan', 'departure_plan',\n",
    "    'arrival_change', 'departure_change', 'arrival_delay_m',\n",
    "    'depature_delay_m', \n",
    "    'hour', \n",
    "    #'arrival_delay_check',\n",
    "    'departure_delay_check'\n",
    "    #'arrival_plan_hour'\n",
    "    ], axis=1)"
   ]
  },
  {
   "cell_type": "code",
   "execution_count": 6,
   "metadata": {},
   "outputs": [],
   "source": [
    "ml_arrival.loc[ml_arrival[\"arrival_delay_check\"] == \"delay\", [\"arrival_delay_check\"]] = 1\n",
    "ml_arrival.loc[ml_arrival[\"arrival_delay_check\"] == \"on_time\", [\"arrival_delay_check\"]] = 0\n",
    "ml_arrival[\"arrival_delay_check\"] = ml_arrival[\"arrival_delay_check\"].astype(int)"
   ]
  },
  {
   "cell_type": "code",
   "execution_count": 7,
   "metadata": {},
   "outputs": [
    {
     "data": {
      "text/html": [
       "<div>\n",
       "<style scoped>\n",
       "    .dataframe tbody tr th:only-of-type {\n",
       "        vertical-align: middle;\n",
       "    }\n",
       "\n",
       "    .dataframe tbody tr th {\n",
       "        vertical-align: top;\n",
       "    }\n",
       "\n",
       "    .dataframe thead th {\n",
       "        text-align: right;\n",
       "    }\n",
       "</style>\n",
       "<table border=\"1\" class=\"dataframe\">\n",
       "  <thead>\n",
       "    <tr style=\"text-align: right;\">\n",
       "      <th></th>\n",
       "      <th>name</th>\n",
       "      <th>long</th>\n",
       "      <th>lat</th>\n",
       "      <th>arrival_delay_check</th>\n",
       "      <th>arrival_plan_hour</th>\n",
       "    </tr>\n",
       "  </thead>\n",
       "  <tbody>\n",
       "    <tr>\n",
       "      <th>0</th>\n",
       "      <td>Aachen Hbf</td>\n",
       "      <td>6.091499</td>\n",
       "      <td>50.7678</td>\n",
       "      <td>0</td>\n",
       "      <td>13.0</td>\n",
       "    </tr>\n",
       "    <tr>\n",
       "      <th>1</th>\n",
       "      <td>Aachen Hbf</td>\n",
       "      <td>6.091499</td>\n",
       "      <td>50.7678</td>\n",
       "      <td>0</td>\n",
       "      <td>13.0</td>\n",
       "    </tr>\n",
       "    <tr>\n",
       "      <th>7</th>\n",
       "      <td>Aachen Hbf</td>\n",
       "      <td>6.091499</td>\n",
       "      <td>50.7678</td>\n",
       "      <td>0</td>\n",
       "      <td>13.0</td>\n",
       "    </tr>\n",
       "    <tr>\n",
       "      <th>8</th>\n",
       "      <td>Aachen Hbf</td>\n",
       "      <td>6.091499</td>\n",
       "      <td>50.7678</td>\n",
       "      <td>0</td>\n",
       "      <td>13.0</td>\n",
       "    </tr>\n",
       "    <tr>\n",
       "      <th>10</th>\n",
       "      <td>Aachen Hbf</td>\n",
       "      <td>6.091499</td>\n",
       "      <td>50.7678</td>\n",
       "      <td>1</td>\n",
       "      <td>13.0</td>\n",
       "    </tr>\n",
       "  </tbody>\n",
       "</table>\n",
       "</div>"
      ],
      "text/plain": [
       "          name      long      lat  arrival_delay_check  arrival_plan_hour\n",
       "0   Aachen Hbf  6.091499  50.7678                    0               13.0\n",
       "1   Aachen Hbf  6.091499  50.7678                    0               13.0\n",
       "7   Aachen Hbf  6.091499  50.7678                    0               13.0\n",
       "8   Aachen Hbf  6.091499  50.7678                    0               13.0\n",
       "10  Aachen Hbf  6.091499  50.7678                    1               13.0"
      ]
     },
     "execution_count": 7,
     "metadata": {},
     "output_type": "execute_result"
    }
   ],
   "source": [
    "ml_arrival.head()"
   ]
  },
  {
   "cell_type": "code",
   "execution_count": 8,
   "metadata": {},
   "outputs": [
    {
     "name": "stdout",
     "output_type": "stream",
     "text": [
      "<class 'pandas.core.frame.DataFrame'>\n",
      "Index: 1241603 entries, 0 to 1370586\n",
      "Data columns (total 5 columns):\n",
      " #   Column               Non-Null Count    Dtype  \n",
      "---  ------               --------------    -----  \n",
      " 0   name                 1241603 non-null  object \n",
      " 1   long                 1241603 non-null  float64\n",
      " 2   lat                  1241603 non-null  float64\n",
      " 3   arrival_delay_check  1241603 non-null  int64  \n",
      " 4   arrival_plan_hour    1241603 non-null  float64\n",
      "dtypes: float64(3), int64(1), object(1)\n",
      "memory usage: 56.8+ MB\n"
     ]
    }
   ],
   "source": [
    "ml_arrival.info()"
   ]
  },
  {
   "cell_type": "code",
   "execution_count": 9,
   "metadata": {},
   "outputs": [
    {
     "data": {
      "text/plain": [
       "1996"
      ]
     },
     "execution_count": 9,
     "metadata": {},
     "output_type": "execute_result"
    }
   ],
   "source": [
    "ml_arrival.name.nunique()"
   ]
  },
  {
   "cell_type": "code",
   "execution_count": 10,
   "metadata": {},
   "outputs": [
    {
     "data": {
      "text/plain": [
       "arrival_delay_check\n",
       "0    1135941\n",
       "1     105662\n",
       "Name: count, dtype: int64"
      ]
     },
     "execution_count": 10,
     "metadata": {},
     "output_type": "execute_result"
    }
   ],
   "source": [
    "ml_arrival.arrival_delay_check.value_counts()"
   ]
  },
  {
   "cell_type": "code",
   "execution_count": 11,
   "metadata": {},
   "outputs": [],
   "source": [
    "ml_arrival_bystations = pd.get_dummies(ml_arrival, columns=[\"name\"])"
   ]
  },
  {
   "cell_type": "code",
   "execution_count": 12,
   "metadata": {},
   "outputs": [
    {
     "data": {
      "text/html": [
       "<div>\n",
       "<style scoped>\n",
       "    .dataframe tbody tr th:only-of-type {\n",
       "        vertical-align: middle;\n",
       "    }\n",
       "\n",
       "    .dataframe tbody tr th {\n",
       "        vertical-align: top;\n",
       "    }\n",
       "\n",
       "    .dataframe thead th {\n",
       "        text-align: right;\n",
       "    }\n",
       "</style>\n",
       "<table border=\"1\" class=\"dataframe\">\n",
       "  <thead>\n",
       "    <tr style=\"text-align: right;\">\n",
       "      <th></th>\n",
       "      <th>long</th>\n",
       "      <th>lat</th>\n",
       "      <th>arrival_delay_check</th>\n",
       "      <th>arrival_plan_hour</th>\n",
       "      <th>name_Aachen Hbf</th>\n",
       "      <th>name_Aachen Schanz</th>\n",
       "      <th>name_Aachen West</th>\n",
       "      <th>name_Aachen-Rothe Erde</th>\n",
       "      <th>name_Aalen Hbf</th>\n",
       "      <th>name_Achern</th>\n",
       "      <th>...</th>\n",
       "      <th>name_Zorneding</th>\n",
       "      <th>name_Zossen</th>\n",
       "      <th>name_Zweibrücken Hbf</th>\n",
       "      <th>name_Zwickau (Sachs) Hbf</th>\n",
       "      <th>name_Zwingenberg (Bergstr)</th>\n",
       "      <th>name_Züssow</th>\n",
       "      <th>name_Öhringen Hbf</th>\n",
       "      <th>name_Ötigheim</th>\n",
       "      <th>name_Übach-Palenberg</th>\n",
       "      <th>name_Übersee</th>\n",
       "    </tr>\n",
       "  </thead>\n",
       "  <tbody>\n",
       "    <tr>\n",
       "      <th>0</th>\n",
       "      <td>6.091499</td>\n",
       "      <td>50.7678</td>\n",
       "      <td>0</td>\n",
       "      <td>13.0</td>\n",
       "      <td>True</td>\n",
       "      <td>False</td>\n",
       "      <td>False</td>\n",
       "      <td>False</td>\n",
       "      <td>False</td>\n",
       "      <td>False</td>\n",
       "      <td>...</td>\n",
       "      <td>False</td>\n",
       "      <td>False</td>\n",
       "      <td>False</td>\n",
       "      <td>False</td>\n",
       "      <td>False</td>\n",
       "      <td>False</td>\n",
       "      <td>False</td>\n",
       "      <td>False</td>\n",
       "      <td>False</td>\n",
       "      <td>False</td>\n",
       "    </tr>\n",
       "    <tr>\n",
       "      <th>1</th>\n",
       "      <td>6.091499</td>\n",
       "      <td>50.7678</td>\n",
       "      <td>0</td>\n",
       "      <td>13.0</td>\n",
       "      <td>True</td>\n",
       "      <td>False</td>\n",
       "      <td>False</td>\n",
       "      <td>False</td>\n",
       "      <td>False</td>\n",
       "      <td>False</td>\n",
       "      <td>...</td>\n",
       "      <td>False</td>\n",
       "      <td>False</td>\n",
       "      <td>False</td>\n",
       "      <td>False</td>\n",
       "      <td>False</td>\n",
       "      <td>False</td>\n",
       "      <td>False</td>\n",
       "      <td>False</td>\n",
       "      <td>False</td>\n",
       "      <td>False</td>\n",
       "    </tr>\n",
       "    <tr>\n",
       "      <th>7</th>\n",
       "      <td>6.091499</td>\n",
       "      <td>50.7678</td>\n",
       "      <td>0</td>\n",
       "      <td>13.0</td>\n",
       "      <td>True</td>\n",
       "      <td>False</td>\n",
       "      <td>False</td>\n",
       "      <td>False</td>\n",
       "      <td>False</td>\n",
       "      <td>False</td>\n",
       "      <td>...</td>\n",
       "      <td>False</td>\n",
       "      <td>False</td>\n",
       "      <td>False</td>\n",
       "      <td>False</td>\n",
       "      <td>False</td>\n",
       "      <td>False</td>\n",
       "      <td>False</td>\n",
       "      <td>False</td>\n",
       "      <td>False</td>\n",
       "      <td>False</td>\n",
       "    </tr>\n",
       "    <tr>\n",
       "      <th>8</th>\n",
       "      <td>6.091499</td>\n",
       "      <td>50.7678</td>\n",
       "      <td>0</td>\n",
       "      <td>13.0</td>\n",
       "      <td>True</td>\n",
       "      <td>False</td>\n",
       "      <td>False</td>\n",
       "      <td>False</td>\n",
       "      <td>False</td>\n",
       "      <td>False</td>\n",
       "      <td>...</td>\n",
       "      <td>False</td>\n",
       "      <td>False</td>\n",
       "      <td>False</td>\n",
       "      <td>False</td>\n",
       "      <td>False</td>\n",
       "      <td>False</td>\n",
       "      <td>False</td>\n",
       "      <td>False</td>\n",
       "      <td>False</td>\n",
       "      <td>False</td>\n",
       "    </tr>\n",
       "    <tr>\n",
       "      <th>10</th>\n",
       "      <td>6.091499</td>\n",
       "      <td>50.7678</td>\n",
       "      <td>1</td>\n",
       "      <td>13.0</td>\n",
       "      <td>True</td>\n",
       "      <td>False</td>\n",
       "      <td>False</td>\n",
       "      <td>False</td>\n",
       "      <td>False</td>\n",
       "      <td>False</td>\n",
       "      <td>...</td>\n",
       "      <td>False</td>\n",
       "      <td>False</td>\n",
       "      <td>False</td>\n",
       "      <td>False</td>\n",
       "      <td>False</td>\n",
       "      <td>False</td>\n",
       "      <td>False</td>\n",
       "      <td>False</td>\n",
       "      <td>False</td>\n",
       "      <td>False</td>\n",
       "    </tr>\n",
       "  </tbody>\n",
       "</table>\n",
       "<p>5 rows × 2000 columns</p>\n",
       "</div>"
      ],
      "text/plain": [
       "        long      lat  arrival_delay_check  arrival_plan_hour  \\\n",
       "0   6.091499  50.7678                    0               13.0   \n",
       "1   6.091499  50.7678                    0               13.0   \n",
       "7   6.091499  50.7678                    0               13.0   \n",
       "8   6.091499  50.7678                    0               13.0   \n",
       "10  6.091499  50.7678                    1               13.0   \n",
       "\n",
       "    name_Aachen Hbf  name_Aachen Schanz  name_Aachen West  \\\n",
       "0              True               False             False   \n",
       "1              True               False             False   \n",
       "7              True               False             False   \n",
       "8              True               False             False   \n",
       "10             True               False             False   \n",
       "\n",
       "    name_Aachen-Rothe Erde  name_Aalen Hbf  name_Achern  ...  name_Zorneding  \\\n",
       "0                    False           False        False  ...           False   \n",
       "1                    False           False        False  ...           False   \n",
       "7                    False           False        False  ...           False   \n",
       "8                    False           False        False  ...           False   \n",
       "10                   False           False        False  ...           False   \n",
       "\n",
       "    name_Zossen  name_Zweibrücken Hbf  name_Zwickau (Sachs) Hbf  \\\n",
       "0         False                 False                     False   \n",
       "1         False                 False                     False   \n",
       "7         False                 False                     False   \n",
       "8         False                 False                     False   \n",
       "10        False                 False                     False   \n",
       "\n",
       "    name_Zwingenberg (Bergstr)  name_Züssow  name_Öhringen Hbf  name_Ötigheim  \\\n",
       "0                        False        False              False          False   \n",
       "1                        False        False              False          False   \n",
       "7                        False        False              False          False   \n",
       "8                        False        False              False          False   \n",
       "10                       False        False              False          False   \n",
       "\n",
       "    name_Übach-Palenberg  name_Übersee  \n",
       "0                  False         False  \n",
       "1                  False         False  \n",
       "7                  False         False  \n",
       "8                  False         False  \n",
       "10                 False         False  \n",
       "\n",
       "[5 rows x 2000 columns]"
      ]
     },
     "execution_count": 12,
     "metadata": {},
     "output_type": "execute_result"
    }
   ],
   "source": [
    "ml_arrival_bystations.head()"
   ]
  },
  {
   "cell_type": "code",
   "execution_count": 13,
   "metadata": {},
   "outputs": [],
   "source": [
    "from sklearn.model_selection import train_test_split\n",
    "from sklearn.neighbors import KNeighborsClassifier\n",
    "from sklearn.metrics import accuracy_score, classification_report, confusion_matrix"
   ]
  },
  {
   "cell_type": "code",
   "execution_count": 14,
   "metadata": {},
   "outputs": [],
   "source": [
    "X = ml_arrival_bystations.drop('arrival_delay_check',axis=1)\n",
    "y = ml_arrival_bystations['arrival_delay_check']\n",
    "X_train, X_test, y_train, y_test = train_test_split(X, y, test_size=0.2, random_state=42, shuffle=True, stratify=y)"
   ]
  },
  {
   "cell_type": "code",
   "execution_count": 15,
   "metadata": {},
   "outputs": [],
   "source": [
    "knn = KNeighborsClassifier()\n",
    "# knn.fit(X_train, y_train)"
   ]
  },
  {
   "cell_type": "code",
   "execution_count": 16,
   "metadata": {},
   "outputs": [],
   "source": [
    "# import pickle\n",
    "\n",
    "# with open('Models/knn.pkl', 'wb') as file:\n",
    "#     pickle.dump(knn, file)"
   ]
  },
  {
   "cell_type": "code",
   "execution_count": 17,
   "metadata": {},
   "outputs": [],
   "source": [
    "import pickle\n",
    "\n",
    "# Load the model from the file\n",
    "with open('Models/knn.pkl', 'rb') as file:\n",
    "    knn = pickle.load(file)"
   ]
  },
  {
   "cell_type": "code",
   "execution_count": 18,
   "metadata": {},
   "outputs": [
    {
     "name": "stdout",
     "output_type": "stream",
     "text": [
      "Accuracy: 0.90\n",
      "Classification Report:\n",
      "              precision    recall  f1-score   support\n",
      "\n",
      "           0       0.92      0.98      0.95    227189\n",
      "           1       0.27      0.07      0.11     21132\n",
      "\n",
      "    accuracy                           0.90    248321\n",
      "   macro avg       0.59      0.53      0.53    248321\n",
      "weighted avg       0.86      0.90      0.88    248321\n",
      "\n",
      "Confusion Matrix:\n",
      "[[222995   4194]\n",
      " [ 19606   1526]]\n"
     ]
    }
   ],
   "source": [
    "y_pred = knn.predict(X_test)\n",
    "accuracy = accuracy_score(y_test, y_pred)\n",
    "print(f'Accuracy: {accuracy:.2f}')\n",
    "print('Classification Report:')\n",
    "print(classification_report(y_test, y_pred))\n",
    "print('Confusion Matrix:')\n",
    "print(confusion_matrix(y_test, y_pred))"
   ]
  },
  {
   "cell_type": "code",
   "execution_count": 19,
   "metadata": {},
   "outputs": [],
   "source": [
    "import seaborn as sns\n",
    "import numpy as np"
   ]
  },
  {
   "cell_type": "code",
   "execution_count": 20,
   "metadata": {},
   "outputs": [
    {
     "data": {
      "text/plain": [
       "Text(50.722222222222214, 0.5, 'True')"
      ]
     },
     "execution_count": 20,
     "metadata": {},
     "output_type": "execute_result"
    },
    {
     "data": {
      "image/png": "[encoded data removed]",
      "text/plain": [
       "<Figure size 640x480 with 2 Axes>"
      ]
     },
     "metadata": {},
     "output_type": "display_data"
    }
   ],
   "source": [
    "cmat = confusion_matrix(y_test, y_pred)\n",
    "fig = sns.heatmap(cmat, annot=True, fmt='d', cmap='Blues', xticklabels=np.unique(y_pred), yticklabels=np.unique(y_pred))\n",
    "fig.set_title('Confusion Matrix Tree')\n",
    "fig.set_xlabel('Predicted')\n",
    "fig.set_ylabel('True')"
   ]
  },
  {
   "cell_type": "code",
   "execution_count": null,
   "metadata": {},
   "outputs": [],
   "source": []
  },
  {
   "cell_type": "code",
   "execution_count": null,
   "metadata": {},
   "outputs": [],
   "source": []
  }
 ],
 "metadata": {
  "kernelspec": {
   "display_name": ".venv",
   "language": "python",
   "name": "python3"
  },
  "language_info": {
   "codemirror_mode": {
    "name": "ipython",
    "version": 3
   },
   "file_extension": ".py",
   "mimetype": "text/x-python",
   "name": "python",
   "nbconvert_exporter": "python",
   "pygments_lexer": "ipython3",
   "version": "3.11.3"
  }
 },
 "nbformat": 4,
 "nbformat_minor": 2
}
