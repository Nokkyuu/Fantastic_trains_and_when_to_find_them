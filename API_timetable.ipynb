{
 "cells": [
  {
   "cell_type": "code",
   "execution_count": 75,
   "metadata": {},
   "outputs": [
    {
     "name": "stdout",
     "output_type": "stream",
     "text": [
      "<timetable station=\"Leer(Ostfriesl)\" eva=\"8000225\">\n",
      "\n",
      "<s id=\"-257816953041096365-2406181136-5\" eva=\"8000225\">\n",
      "    <m id=\"r2215296\" t=\"h\" from=\"2406181136\" to=\"2406181613\" cat=\"Information\" ts=\"2406181349\" ts-tts=\"24-06-18 13:49:56.576\" pr=\"2\"/>\n",
      "    <ar cpth=\"Norddeich Mole|Norddeich|Norden|Emden Hbf\" cp=\"2\" ct=\"2406181254\">\n",
      "        <m id=\"r168075653\" t=\"d\" c=\"33\" ts=\"2406181215\" ts-tts=\"24-06-18 12:15:38.375\"/>\n",
      "        <m id=\"r168075793\" t=\"f\" c=\"0\" ts=\"2406181217\" ts-tts=\"24-06-18 12:17:48.286\"/>\n",
      "        <m id=\"r168076048\" t=\"f\" c=\"0\" ts=\"2406181222\" ts-tts=\"24-06-18 12:22:40.578\"/>\n",
      "        <m id=\"r168076124\" t=\"f\" c=\"0\" ts=\"2406181223\" ts-tts=\"24-06-18 12:23:29.180\"/>\n",
      "        <m id=\"r168076926\" t=\"q\" c=\"80\" ts=\"2406181239\" ts-tts=\"24-06-18 12:39:58.134\"/>\n",
      "        <m id=\"r168077014\" t=\"f\" c=\"0\" ts=\"2406181242\" ts-tts=\"24-06-18 12:42:23.987\"/>\n",
      "        <m id=\"r168080480\" t=\"f\" c=\"0\" ts=\"2406181353\" ts-tts=\"24-06-18 13:53:29.656\"/>\n",
      "    </ar>\n",
      "    <dp cpth=\"Osnabrück Hbf|Münster(Westf)Hbf|Recklinghausen Hbf|Wanne-Eickel Hbf|Gelsenkirchen Hbf|Oberhausen Hbf|Duisburg Hbf|Düsseldorf Hbf|Köln Hbf\" cp=\"2\" ct=\"2406181306\">\n",
      "        <m id=\"r168075653\" t=\"d\" c=\"33\" ts=\"2406181215\" ts-tts=\"24-06-18 12:15:38.375\"/>\n",
      "        <m id=\"r168075793\" t=\"f\" c=\"0\" ts=\"2406181217\" ts-tts=\"24-06-18 12:17:48.286\"/>\n",
      "        <m id=\"r168076048\" t=\"f\" c=\"0\" ts=\"2406181222\" ts-tts=\"24-06-18 12:22:40.578\"/>\n",
      "        <m id=\"r168076124\" t=\"f\" c=\"0\" ts=\"2406181223\" ts-tts=\"24-06-18 12:23:29.180\"/>\n",
      "        <m id=\"r168076926\" t=\"q\" c=\"80\" ts=\"2406181239\" ts-tts=\"24-06-18 12:39:58.134\"/>\n",
      "        <m id=\"r168077014\" t=\"f\" c=\"0\" ts=\"2406181242\" ts-tts=\"24-06-18 12:42:23.987\"/>\n",
      "        <m id=\"r168080480\" t=\"f\" c=\"0\" ts=\"2406181353\" ts-tts=\"24-06-18 13:53:29.656\"/>\n",
      "    </dp>\n",
      "</s>\n",
      "\n",
      "\n",
      "<s id=\"7543378669223882522-2406180936-13\" eva=\"8000225\">\n",
      "    <ar cpth=\"Köln Hbf|Düsseldorf Hbf|Duisburg Hbf|Oberhausen Hbf|Gelsenkirchen Hbf|Wanne-Eickel Hbf|Recklinghausen Hbf|Münster(Westf)Hbf|Rheine\" ppth=\"Köln Hbf|Düsseldorf Hbf|Duisburg Hbf|Oberhausen Hbf|Gelsenkirchen Hbf|Wanne-Eickel Hbf|Recklinghausen Hbf|Münster(Westf)Hbf|Rheine|Lingen(Ems)|Meppen|Papenburg(Ems)\" cp=\"4\" pp=\"2\" ct=\"2406181512\" pt=\"2406181307\">\n",
      "        <m id=\"r168069468\" t=\"d\" c=\"43\" ts=\"2406180956\" ts-tts=\"24-06-18 09:56:28.732\"/>\n",
      "        <m id=\"r168070342\" t=\"d\" c=\"43\" ts=\"2406181019\" ts-tts=\"24-06-18 10:19:19.347\"/>\n",
      "        <m id=\"r168070724\" t=\"f\" c=\"0\" ts=\"2406181025\" ts-tts=\"24-06-18 10:26:10.930\"/>\n",
      "        <m id=\"r168071376\" t=\"f\" c=\"0\" ts=\"2406181037\" ts-tts=\"24-06-18 10:37:37.936\"/>\n",
      "        <m id=\"r168071889\" t=\"d\" c=\"43\" ts=\"2406181050\" ts-tts=\"24-06-18 10:51:03.299\"/>\n",
      "        <m id=\"r168072341\" t=\"d\" c=\"43\" ts=\"2406181103\" ts-tts=\"24-06-18 11:03:55.388\"/>\n",
      "        <m id=\"r168076568\" t=\"d\" c=\"33\" ts=\"2406181231\" ts-tts=\"24-06-18 12:31:51.441\"/>\n",
      "        <m id=\"r168077203\" t=\"f\" c=\"0\" ts=\"2406181246\" ts-tts=\"24-06-18 12:46:27.490\"/>\n",
      "        <m id=\"r168077208\" t=\"q\" c=\"80\" ts=\"2406181246\" ts-tts=\"24-06-18 12:46:43.816\"/>\n",
      "        <m id=\"r168077326\" t=\"q\" c=\"84\" ts=\"2406181249\" ts-tts=\"24-06-18 12:49:58.235\"/>\n",
      "        <m id=\"r168077760\" t=\"d\" c=\"33\" ts=\"2406181259\" ts-tts=\"24-06-18 12:59:26.747\"/>\n",
      "        <m id=\"r168078120\" t=\"f\" c=\"0\" ts=\"2406181307\" ts-tts=\"24-06-18 13:07:50.873\"/>\n",
      "        <m id=\"r168080432\" t=\"f\" c=\"0\" ts=\"2406181352\" ts-tts=\"24-06-18 13:52:40.624\"/>\n",
      "    </ar>\n",
      "    <dp cpth=\"\" ppth=\"Emden Hbf|Emden Außenhafen\" cp=\"4\" pp=\"2\" ct=\"2406181453\" pt=\"2406181308\" cs=\"c\" clt=\"2406181259\" wings=\"-9186229282839835662-2406181308\">\n",
      "        <m id=\"r168069468\" t=\"d\" c=\"43\" ts=\"2406180956\" ts-tts=\"24-06-18 09:56:28.732\"/>\n",
      "        <m id=\"r168070342\" t=\"d\" c=\"43\" ts=\"2406181019\" ts-tts=\"24-06-18 10:19:19.347\"/>\n",
      "        <m id=\"r168070724\" t=\"f\" c=\"0\" ts=\"2406181025\" ts-tts=\"24-06-18 10:26:10.930\"/>\n",
      "        <m id=\"r168071376\" t=\"f\" c=\"0\" ts=\"2406181037\" ts-tts=\"24-06-18 10:37:37.936\"/>\n",
      "        <m id=\"r168071889\" t=\"d\" c=\"43\" ts=\"2406181050\" ts-tts=\"24-06-18 10:51:03.299\"/>\n",
      "        <m id=\"r168072341\" t=\"d\" c=\"43\" ts=\"2406181103\" ts-tts=\"24-06-18 11:03:55.388\"/>\n",
      "        <m id=\"r168076568\" t=\"d\" c=\"33\" ts=\"2406181231\" ts-tts=\"24-06-18 12:31:51.441\"/>\n",
      "        <m id=\"r168077203\" t=\"f\" c=\"0\" ts=\"2406181246\" ts-tts=\"24-06-18 12:46:27.490\"/>\n",
      "        <m id=\"r168077208\" t=\"q\" c=\"80\" ts=\"2406181246\" ts-tts=\"24-06-18 12:46:43.817\"/>\n",
      "        <m id=\"r168077326\" t=\"q\" c=\"84\" ts=\"2406181249\" ts-tts=\"24-06-18 12:49:58.235\"/>\n",
      "        <m id=\"r168077760\" t=\"d\" c=\"33\" ts=\"2406181259\" ts-tts=\"24-06-18 12:59:26.747\"/>\n",
      "        <m id=\"r168078120\" t=\"f\" c=\"0\" ts=\"2406181307\" ts-tts=\"24-06-18 13:07:50.873\"/>\n",
      "        <m id=\"r168080432\" t=\"f\" c=\"0\" ts=\"2406181352\" ts-tts=\"24-06-18 13:52:40.624\"/>\n",
      "    </dp>\n",
      "    <tl f=\"F\" t=\"p\" o=\"80\" c=\"ICE\" n=\"604\"/>\n",
      "</s>\n",
      "\n",
      "\n",
      "<s id=\"-6630329376169134582-2406181752-2\" eva=\"8000225\">\n",
      "    <m id=\"r2215104\" t=\"h\" from=\"2406181200\" to=\"2406182200\" cat=\"Störung. (Quelle: zuginfo.nrw)\" ts=\"2406180950\" ts-tts=\"24-06-18 09:50:27.421\" pr=\"1\"/>\n",
      "    <ar ct=\"2406181808\" l=\"RE15\"/>\n",
      "    <dp ct=\"2406181809\" l=\"RE15\"/>\n",
      "</s>\n",
      "\n",
      "</timetable>\n",
      "\n"
     ]
    }
   ],
   "source": [
    "import requests\n",
    "import pandas as pd\n",
    "# Replace both api keys are created on the via the website\n",
    "\n",
    "client_id = '5cf21bb577a46a3f0263677e5bee0969'\n",
    "client_secret = '0229d92a983df1a6681e56ba6a390135'\n",
    "url = \"https://apis.deutschebahn.com/db-api-marketplace/apis/timetables/v1/rchg/8000225\" #here will go more optional stuff like what kind of stations, how many etc (default: 100)\n",
    "# Set up headers with API key - \n",
    "url2 = \"https://apis.deutschebahn.com/db-api-marketplace/apis/timetables/v1/plan/8000225/240619/09\" \n",
    "headers={\n",
    "        \"DB-Api-Key\": client_secret,\n",
    "        \"DB-Client-Id\": client_id,\n",
    "        \"accept\": \"application/xml\"\n",
    "            }\n",
    "\n",
    "response = requests.get(url, headers=headers)\n",
    "response2 = requests.get(url2, headers=headers)\n",
    "\n"
   ]
  },
  {
   "cell_type": "code",
   "execution_count": null,
   "metadata": {},
   "outputs": [],
   "source": [
    "xml_data = response.text\n",
    "xml_data2 = response2.text"
   ]
  },
  {
   "cell_type": "code",
   "execution_count": null,
   "metadata": {},
   "outputs": [],
   "source": [
    "import xml.etree.ElementTree as ET"
   ]
  },
  {
   "cell_type": "code",
   "execution_count": null,
   "metadata": {},
   "outputs": [],
   "source": [
    "root = ET.fromstring(xml_data)\n",
    "tree = ET.ElementTree(root)\n",
    "tree.write(\"Leer_changed.xml\")"
   ]
  },
  {
   "cell_type": "code",
   "execution_count": null,
   "metadata": {},
   "outputs": [],
   "source": [
    "root2 = ET.fromstring(xml_data2)\n",
    "tree2 = ET.ElementTree(root2)\n",
    "tree2.write(\"Leer_planned.xml\")"
   ]
  }
 ],
 "metadata": {
  "kernelspec": {
   "display_name": ".venv",
   "language": "python",
   "name": "python3"
  },
  "language_info": {
   "codemirror_mode": {
    "name": "ipython",
    "version": 3
   },
   "file_extension": ".py",
   "mimetype": "text/x-python",
   "name": "python",
   "nbconvert_exporter": "python",
   "pygments_lexer": "ipython3",
   "version": "3.11.3"
  }
 },
 "nbformat": 4,
 "nbformat_minor": 2
}
