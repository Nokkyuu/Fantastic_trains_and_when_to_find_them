{
 "cells": [
  {
   "cell_type": "markdown",
   "metadata": {},
   "source": [
    "- Top 10 Paths mit anzahl versptungen (balkendiagramm)<br>\n",
    "- Top 10 Bahnhöfe mit anzahl verspätungen geteilt durch anzahl fahrten (also quasi Prozentsatz der verspätungen am Bahnhof)(balkendiagramm)<br>\n",
    "- Beides nochmal mit durchschnittlichen Verspätungslängen like 1"
   ]
  },
  {
   "cell_type": "code",
   "execution_count": 1,
   "metadata": {},
   "outputs": [],
   "source": [
    "#Importing libraries\n",
    "import pandas as pd\n",
    "import numpy as np\n",
    "import matplotlib.pyplot as plt\n",
    "import seaborn as sns\n",
    "import plotly.express as px\n",
    "from datetime import date, time, datetime"
   ]
  },
  {
   "cell_type": "code",
   "execution_count": 2,
   "metadata": {},
   "outputs": [],
   "source": [
    "#Create dataframe from CSV\n",
    "df = pd.read_csv(\"../data/fromAPI/cleaned_hourly_all.csv\")"
   ]
  },
  {
   "cell_type": "code",
   "execution_count": 10,
   "metadata": {},
   "outputs": [
    {
     "data": {
      "text/plain": [
       "<bound method IndexOpsMixin.nunique of 0            Stolberg(Rheinl)Hbf|Eilendorf|Aachen-Rothe Erde\n",
       "1          Stolberg(Rheinl)Hbf Gl.44|Eschweiler-St.Jöris|...\n",
       "2                                                        NaN\n",
       "3                                                        NaN\n",
       "4                                                        NaN\n",
       "                                 ...                        \n",
       "1370584    Bergisch Gladbach|Duckterath|Köln-Dellbrück|Kö...\n",
       "1370585                                                  NaN\n",
       "1370586    Bergisch Gladbach|Duckterath|Köln-Dellbrück|Kö...\n",
       "1370587                                                  NaN\n",
       "1370588                                                  NaN\n",
       "Name: path, Length: 1370589, dtype: object>"
      ]
     },
     "execution_count": 10,
     "metadata": {},
     "output_type": "execute_result"
    }
   ],
   "source": [
    "df.path.nunique"
   ]
  },
  {
   "cell_type": "code",
   "execution_count": null,
   "metadata": {},
   "outputs": [],
   "source": [
    "df.groupby(\"path\")"
   ]
  }
 ],
 "metadata": {
  "kernelspec": {
   "display_name": ".venv",
   "language": "python",
   "name": "python3"
  },
  "language_info": {
   "codemirror_mode": {
    "name": "ipython",
    "version": 3
   },
   "file_extension": ".py",
   "mimetype": "text/x-python",
   "name": "python",
   "nbconvert_exporter": "python",
   "pygments_lexer": "ipython3",
   "version": "3.11.3"
  }
 },
 "nbformat": 4,
 "nbformat_minor": 2
}
